{
 "metadata": {
  "language_info": {
   "codemirror_mode": {
    "name": "ipython",
    "version": 3
   },
   "file_extension": ".py",
   "mimetype": "text/x-python",
   "name": "python",
   "nbconvert_exporter": "python",
   "pygments_lexer": "ipython3",
   "version": "3.8.8"
  },
  "orig_nbformat": 4,
  "kernelspec": {
   "name": "python3",
   "display_name": "Python 3.8.8 64-bit ('base': conda)"
  },
  "interpreter": {
   "hash": "6b55f620c194af84865e00752ffcc14847566378aaeedd110b2da79ab189839d"
  }
 },
 "nbformat": 4,
 "nbformat_minor": 2,
 "cells": [
  {
   "cell_type": "code",
   "execution_count": 1,
   "metadata": {},
   "outputs": [],
   "source": [
    "import pandas as pd\n",
    "import numpy as np\n",
    "import tensorflow as tf\n",
    "from sklearn.preprocessing import StandardScaler\n",
    "from sklearn.model_selection import train_test_split"
   ]
  },
  {
   "cell_type": "code",
   "execution_count": 2,
   "metadata": {},
   "outputs": [],
   "source": [
    "ds = pd.read_csv(\"train.csv\")"
   ]
  },
  {
   "cell_type": "code",
   "execution_count": 3,
   "metadata": {},
   "outputs": [
    {
     "output_type": "execute_result",
     "data": {
      "text/plain": [
       "                date_time  deg_C  relative_humidity  absolute_humidity  \\\n",
       "0     2010-03-10 18:00:00   13.1               46.0             0.7578   \n",
       "1     2010-03-10 19:00:00   13.2               45.3             0.7255   \n",
       "2     2010-03-10 20:00:00   12.6               56.2             0.7502   \n",
       "3     2010-03-10 21:00:00   11.0               62.4             0.7867   \n",
       "4     2010-03-10 22:00:00   11.9               59.0             0.7888   \n",
       "...                   ...    ...                ...                ...   \n",
       "7106  2010-12-31 20:00:00    9.2               32.0             0.3871   \n",
       "7107  2010-12-31 21:00:00    9.1               33.2             0.3766   \n",
       "7108  2010-12-31 22:00:00    9.6               34.6             0.4310   \n",
       "7109  2010-12-31 23:00:00    8.0               40.7             0.4085   \n",
       "7110  2011-01-01 00:00:00    8.0               41.3             0.4375   \n",
       "\n",
       "      sensor_1  sensor_2  sensor_3  sensor_4  sensor_5  \\\n",
       "0       1387.2    1087.8    1056.0    1742.8    1293.4   \n",
       "1       1279.1     888.2    1197.5    1449.9    1010.9   \n",
       "2       1331.9     929.6    1060.2    1586.1    1117.0   \n",
       "3       1321.0     929.0    1102.9    1536.5    1263.2   \n",
       "4       1272.0     852.7    1180.9    1415.5    1132.2   \n",
       "...        ...       ...       ...       ...       ...   \n",
       "7106    1000.5     811.2     873.0     909.0     910.5   \n",
       "7107    1022.7     790.0     951.6     912.9     903.4   \n",
       "7108    1044.4     767.3     861.9     889.2    1159.1   \n",
       "7109     952.8     691.9     908.5     917.0    1206.3   \n",
       "7110    1108.8     745.7     797.1     880.0    1273.1   \n",
       "\n",
       "      target_carbon_monoxide  target_benzene  target_nitrogen_oxides  \n",
       "0                        2.5            12.0                   167.7  \n",
       "1                        2.1             9.9                    98.9  \n",
       "2                        2.2             9.2                   127.1  \n",
       "3                        2.2             9.7                   177.2  \n",
       "4                        1.5             6.4                   121.8  \n",
       "...                      ...             ...                     ...  \n",
       "7106                     1.3             5.1                   191.1  \n",
       "7107                     1.4             5.8                   221.3  \n",
       "7108                     1.6             5.2                   227.4  \n",
       "7109                     1.5             4.6                   199.8  \n",
       "7110                     1.4             4.1                   186.5  \n",
       "\n",
       "[7111 rows x 12 columns]"
      ],
      "text/html": "<div>\n<style scoped>\n    .dataframe tbody tr th:only-of-type {\n        vertical-align: middle;\n    }\n\n    .dataframe tbody tr th {\n        vertical-align: top;\n    }\n\n    .dataframe thead th {\n        text-align: right;\n    }\n</style>\n<table border=\"1\" class=\"dataframe\">\n  <thead>\n    <tr style=\"text-align: right;\">\n      <th></th>\n      <th>date_time</th>\n      <th>deg_C</th>\n      <th>relative_humidity</th>\n      <th>absolute_humidity</th>\n      <th>sensor_1</th>\n      <th>sensor_2</th>\n      <th>sensor_3</th>\n      <th>sensor_4</th>\n      <th>sensor_5</th>\n      <th>target_carbon_monoxide</th>\n      <th>target_benzene</th>\n      <th>target_nitrogen_oxides</th>\n    </tr>\n  </thead>\n  <tbody>\n    <tr>\n      <th>0</th>\n      <td>2010-03-10 18:00:00</td>\n      <td>13.1</td>\n      <td>46.0</td>\n      <td>0.7578</td>\n      <td>1387.2</td>\n      <td>1087.8</td>\n      <td>1056.0</td>\n      <td>1742.8</td>\n      <td>1293.4</td>\n      <td>2.5</td>\n      <td>12.0</td>\n      <td>167.7</td>\n    </tr>\n    <tr>\n      <th>1</th>\n      <td>2010-03-10 19:00:00</td>\n      <td>13.2</td>\n      <td>45.3</td>\n      <td>0.7255</td>\n      <td>1279.1</td>\n      <td>888.2</td>\n      <td>1197.5</td>\n      <td>1449.9</td>\n      <td>1010.9</td>\n      <td>2.1</td>\n      <td>9.9</td>\n      <td>98.9</td>\n    </tr>\n    <tr>\n      <th>2</th>\n      <td>2010-03-10 20:00:00</td>\n      <td>12.6</td>\n      <td>56.2</td>\n      <td>0.7502</td>\n      <td>1331.9</td>\n      <td>929.6</td>\n      <td>1060.2</td>\n      <td>1586.1</td>\n      <td>1117.0</td>\n      <td>2.2</td>\n      <td>9.2</td>\n      <td>127.1</td>\n    </tr>\n    <tr>\n      <th>3</th>\n      <td>2010-03-10 21:00:00</td>\n      <td>11.0</td>\n      <td>62.4</td>\n      <td>0.7867</td>\n      <td>1321.0</td>\n      <td>929.0</td>\n      <td>1102.9</td>\n      <td>1536.5</td>\n      <td>1263.2</td>\n      <td>2.2</td>\n      <td>9.7</td>\n      <td>177.2</td>\n    </tr>\n    <tr>\n      <th>4</th>\n      <td>2010-03-10 22:00:00</td>\n      <td>11.9</td>\n      <td>59.0</td>\n      <td>0.7888</td>\n      <td>1272.0</td>\n      <td>852.7</td>\n      <td>1180.9</td>\n      <td>1415.5</td>\n      <td>1132.2</td>\n      <td>1.5</td>\n      <td>6.4</td>\n      <td>121.8</td>\n    </tr>\n    <tr>\n      <th>...</th>\n      <td>...</td>\n      <td>...</td>\n      <td>...</td>\n      <td>...</td>\n      <td>...</td>\n      <td>...</td>\n      <td>...</td>\n      <td>...</td>\n      <td>...</td>\n      <td>...</td>\n      <td>...</td>\n      <td>...</td>\n    </tr>\n    <tr>\n      <th>7106</th>\n      <td>2010-12-31 20:00:00</td>\n      <td>9.2</td>\n      <td>32.0</td>\n      <td>0.3871</td>\n      <td>1000.5</td>\n      <td>811.2</td>\n      <td>873.0</td>\n      <td>909.0</td>\n      <td>910.5</td>\n      <td>1.3</td>\n      <td>5.1</td>\n      <td>191.1</td>\n    </tr>\n    <tr>\n      <th>7107</th>\n      <td>2010-12-31 21:00:00</td>\n      <td>9.1</td>\n      <td>33.2</td>\n      <td>0.3766</td>\n      <td>1022.7</td>\n      <td>790.0</td>\n      <td>951.6</td>\n      <td>912.9</td>\n      <td>903.4</td>\n      <td>1.4</td>\n      <td>5.8</td>\n      <td>221.3</td>\n    </tr>\n    <tr>\n      <th>7108</th>\n      <td>2010-12-31 22:00:00</td>\n      <td>9.6</td>\n      <td>34.6</td>\n      <td>0.4310</td>\n      <td>1044.4</td>\n      <td>767.3</td>\n      <td>861.9</td>\n      <td>889.2</td>\n      <td>1159.1</td>\n      <td>1.6</td>\n      <td>5.2</td>\n      <td>227.4</td>\n    </tr>\n    <tr>\n      <th>7109</th>\n      <td>2010-12-31 23:00:00</td>\n      <td>8.0</td>\n      <td>40.7</td>\n      <td>0.4085</td>\n      <td>952.8</td>\n      <td>691.9</td>\n      <td>908.5</td>\n      <td>917.0</td>\n      <td>1206.3</td>\n      <td>1.5</td>\n      <td>4.6</td>\n      <td>199.8</td>\n    </tr>\n    <tr>\n      <th>7110</th>\n      <td>2011-01-01 00:00:00</td>\n      <td>8.0</td>\n      <td>41.3</td>\n      <td>0.4375</td>\n      <td>1108.8</td>\n      <td>745.7</td>\n      <td>797.1</td>\n      <td>880.0</td>\n      <td>1273.1</td>\n      <td>1.4</td>\n      <td>4.1</td>\n      <td>186.5</td>\n    </tr>\n  </tbody>\n</table>\n<p>7111 rows × 12 columns</p>\n</div>"
     },
     "metadata": {},
     "execution_count": 3
    }
   ],
   "source": [
    "ds"
   ]
  },
  {
   "cell_type": "code",
   "execution_count": 4,
   "metadata": {},
   "outputs": [],
   "source": [
    "X_full = ds.iloc[:,1:-3]\n",
    "y_full = ds.iloc[:, -3:]"
   ]
  },
  {
   "cell_type": "code",
   "execution_count": 5,
   "metadata": {},
   "outputs": [
    {
     "output_type": "execute_result",
     "data": {
      "text/plain": [
       "      deg_C  relative_humidity  absolute_humidity  sensor_1  sensor_2  \\\n",
       "0      13.1               46.0             0.7578    1387.2    1087.8   \n",
       "1      13.2               45.3             0.7255    1279.1     888.2   \n",
       "2      12.6               56.2             0.7502    1331.9     929.6   \n",
       "3      11.0               62.4             0.7867    1321.0     929.0   \n",
       "4      11.9               59.0             0.7888    1272.0     852.7   \n",
       "...     ...                ...                ...       ...       ...   \n",
       "7106    9.2               32.0             0.3871    1000.5     811.2   \n",
       "7107    9.1               33.2             0.3766    1022.7     790.0   \n",
       "7108    9.6               34.6             0.4310    1044.4     767.3   \n",
       "7109    8.0               40.7             0.4085     952.8     691.9   \n",
       "7110    8.0               41.3             0.4375    1108.8     745.7   \n",
       "\n",
       "      sensor_3  sensor_4  sensor_5  \n",
       "0       1056.0    1742.8    1293.4  \n",
       "1       1197.5    1449.9    1010.9  \n",
       "2       1060.2    1586.1    1117.0  \n",
       "3       1102.9    1536.5    1263.2  \n",
       "4       1180.9    1415.5    1132.2  \n",
       "...        ...       ...       ...  \n",
       "7106     873.0     909.0     910.5  \n",
       "7107     951.6     912.9     903.4  \n",
       "7108     861.9     889.2    1159.1  \n",
       "7109     908.5     917.0    1206.3  \n",
       "7110     797.1     880.0    1273.1  \n",
       "\n",
       "[7111 rows x 8 columns]"
      ],
      "text/html": "<div>\n<style scoped>\n    .dataframe tbody tr th:only-of-type {\n        vertical-align: middle;\n    }\n\n    .dataframe tbody tr th {\n        vertical-align: top;\n    }\n\n    .dataframe thead th {\n        text-align: right;\n    }\n</style>\n<table border=\"1\" class=\"dataframe\">\n  <thead>\n    <tr style=\"text-align: right;\">\n      <th></th>\n      <th>deg_C</th>\n      <th>relative_humidity</th>\n      <th>absolute_humidity</th>\n      <th>sensor_1</th>\n      <th>sensor_2</th>\n      <th>sensor_3</th>\n      <th>sensor_4</th>\n      <th>sensor_5</th>\n    </tr>\n  </thead>\n  <tbody>\n    <tr>\n      <th>0</th>\n      <td>13.1</td>\n      <td>46.0</td>\n      <td>0.7578</td>\n      <td>1387.2</td>\n      <td>1087.8</td>\n      <td>1056.0</td>\n      <td>1742.8</td>\n      <td>1293.4</td>\n    </tr>\n    <tr>\n      <th>1</th>\n      <td>13.2</td>\n      <td>45.3</td>\n      <td>0.7255</td>\n      <td>1279.1</td>\n      <td>888.2</td>\n      <td>1197.5</td>\n      <td>1449.9</td>\n      <td>1010.9</td>\n    </tr>\n    <tr>\n      <th>2</th>\n      <td>12.6</td>\n      <td>56.2</td>\n      <td>0.7502</td>\n      <td>1331.9</td>\n      <td>929.6</td>\n      <td>1060.2</td>\n      <td>1586.1</td>\n      <td>1117.0</td>\n    </tr>\n    <tr>\n      <th>3</th>\n      <td>11.0</td>\n      <td>62.4</td>\n      <td>0.7867</td>\n      <td>1321.0</td>\n      <td>929.0</td>\n      <td>1102.9</td>\n      <td>1536.5</td>\n      <td>1263.2</td>\n    </tr>\n    <tr>\n      <th>4</th>\n      <td>11.9</td>\n      <td>59.0</td>\n      <td>0.7888</td>\n      <td>1272.0</td>\n      <td>852.7</td>\n      <td>1180.9</td>\n      <td>1415.5</td>\n      <td>1132.2</td>\n    </tr>\n    <tr>\n      <th>...</th>\n      <td>...</td>\n      <td>...</td>\n      <td>...</td>\n      <td>...</td>\n      <td>...</td>\n      <td>...</td>\n      <td>...</td>\n      <td>...</td>\n    </tr>\n    <tr>\n      <th>7106</th>\n      <td>9.2</td>\n      <td>32.0</td>\n      <td>0.3871</td>\n      <td>1000.5</td>\n      <td>811.2</td>\n      <td>873.0</td>\n      <td>909.0</td>\n      <td>910.5</td>\n    </tr>\n    <tr>\n      <th>7107</th>\n      <td>9.1</td>\n      <td>33.2</td>\n      <td>0.3766</td>\n      <td>1022.7</td>\n      <td>790.0</td>\n      <td>951.6</td>\n      <td>912.9</td>\n      <td>903.4</td>\n    </tr>\n    <tr>\n      <th>7108</th>\n      <td>9.6</td>\n      <td>34.6</td>\n      <td>0.4310</td>\n      <td>1044.4</td>\n      <td>767.3</td>\n      <td>861.9</td>\n      <td>889.2</td>\n      <td>1159.1</td>\n    </tr>\n    <tr>\n      <th>7109</th>\n      <td>8.0</td>\n      <td>40.7</td>\n      <td>0.4085</td>\n      <td>952.8</td>\n      <td>691.9</td>\n      <td>908.5</td>\n      <td>917.0</td>\n      <td>1206.3</td>\n    </tr>\n    <tr>\n      <th>7110</th>\n      <td>8.0</td>\n      <td>41.3</td>\n      <td>0.4375</td>\n      <td>1108.8</td>\n      <td>745.7</td>\n      <td>797.1</td>\n      <td>880.0</td>\n      <td>1273.1</td>\n    </tr>\n  </tbody>\n</table>\n<p>7111 rows × 8 columns</p>\n</div>"
     },
     "metadata": {},
     "execution_count": 5
    }
   ],
   "source": [
    "X_full"
   ]
  },
  {
   "cell_type": "code",
   "execution_count": 6,
   "metadata": {},
   "outputs": [],
   "source": [
    "sc = StandardScaler()\n",
    "X_full = sc.fit_transform(X_full)"
   ]
  },
  {
   "cell_type": "code",
   "execution_count": 7,
   "metadata": {},
   "outputs": [
    {
     "output_type": "execute_result",
     "data": {
      "text/plain": [
       "array([[-0.97992726, -0.08972573, -0.88365328, ...,  0.55437357,\n",
       "         0.65559881,  0.7734103 ],\n",
       "       [-0.96732861, -0.12996138, -0.96462148, ...,  1.01018627,\n",
       "        -0.18088625,  0.03293336],\n",
       "       [-1.04292051,  0.49656516, -0.90270462, ...,  0.56790299,\n",
       "         0.20808359,  0.31103815],\n",
       "       ...,\n",
       "       [-1.42088   , -0.74499202, -1.70286098, ..., -0.07087905,\n",
       "        -1.78217397,  0.42138888],\n",
       "       [-1.6224584 , -0.39436708, -1.75926298, ...,  0.07923312,\n",
       "        -1.70278071,  0.5451075 ],\n",
       "       [-1.6224584 , -0.35987938, -1.68656707, ..., -0.27961872,\n",
       "        -1.80844799,  0.72020081]])"
      ]
     },
     "metadata": {},
     "execution_count": 7
    }
   ],
   "source": [
    "X_full"
   ]
  },
  {
   "cell_type": "code",
   "execution_count": 8,
   "metadata": {},
   "outputs": [
    {
     "output_type": "execute_result",
     "data": {
      "text/plain": [
       "numpy.ndarray"
      ]
     },
     "metadata": {},
     "execution_count": 8
    }
   ],
   "source": [
    "type(X_full)"
   ]
  },
  {
   "cell_type": "code",
   "execution_count": 9,
   "metadata": {},
   "outputs": [],
   "source": [
    "X_full = pd.DataFrame(X_full)"
   ]
  },
  {
   "cell_type": "code",
   "execution_count": 10,
   "metadata": {},
   "outputs": [
    {
     "output_type": "execute_result",
     "data": {
      "text/plain": [
       "             0         1         2         3         4         5         6  \\\n",
       "0    -0.979927 -0.089726 -0.883653  1.352851  0.531052  0.554374  0.655599   \n",
       "1    -0.967329 -0.129961 -0.964621  0.858164 -0.176852  1.010186 -0.180886   \n",
       "2    -1.042921  0.496565 -0.902705  1.099787 -0.030022  0.567903  0.208084   \n",
       "3    -1.244499  0.852938 -0.811208  1.049907 -0.032150  0.705452  0.066432   \n",
       "4    -1.131111  0.657508 -0.805944  0.825673 -0.302757  0.956713 -0.279128   \n",
       "...        ...       ...       ...       ...       ...       ...       ...   \n",
       "7106 -1.471275 -0.894439 -1.812908 -0.416764 -0.449941 -0.035123 -1.725628   \n",
       "7107 -1.483873 -0.825463 -1.839228 -0.315172 -0.525129  0.218071 -1.714490   \n",
       "7108 -1.420880 -0.744992 -1.702861 -0.215869 -0.605637 -0.070879 -1.782174   \n",
       "7109 -1.622458 -0.394367 -1.759263 -0.635048 -0.873052  0.079233 -1.702781   \n",
       "7110 -1.622458 -0.359879 -1.686567  0.078838 -0.682244 -0.279619 -1.808448   \n",
       "\n",
       "             7  \n",
       "0     0.773410  \n",
       "1     0.032933  \n",
       "2     0.311038  \n",
       "3     0.694251  \n",
       "4     0.350880  \n",
       "...        ...  \n",
       "7106 -0.230231  \n",
       "7107 -0.248841  \n",
       "7108  0.421389  \n",
       "7109  0.545108  \n",
       "7110  0.720201  \n",
       "\n",
       "[7111 rows x 8 columns]"
      ],
      "text/html": "<div>\n<style scoped>\n    .dataframe tbody tr th:only-of-type {\n        vertical-align: middle;\n    }\n\n    .dataframe tbody tr th {\n        vertical-align: top;\n    }\n\n    .dataframe thead th {\n        text-align: right;\n    }\n</style>\n<table border=\"1\" class=\"dataframe\">\n  <thead>\n    <tr style=\"text-align: right;\">\n      <th></th>\n      <th>0</th>\n      <th>1</th>\n      <th>2</th>\n      <th>3</th>\n      <th>4</th>\n      <th>5</th>\n      <th>6</th>\n      <th>7</th>\n    </tr>\n  </thead>\n  <tbody>\n    <tr>\n      <th>0</th>\n      <td>-0.979927</td>\n      <td>-0.089726</td>\n      <td>-0.883653</td>\n      <td>1.352851</td>\n      <td>0.531052</td>\n      <td>0.554374</td>\n      <td>0.655599</td>\n      <td>0.773410</td>\n    </tr>\n    <tr>\n      <th>1</th>\n      <td>-0.967329</td>\n      <td>-0.129961</td>\n      <td>-0.964621</td>\n      <td>0.858164</td>\n      <td>-0.176852</td>\n      <td>1.010186</td>\n      <td>-0.180886</td>\n      <td>0.032933</td>\n    </tr>\n    <tr>\n      <th>2</th>\n      <td>-1.042921</td>\n      <td>0.496565</td>\n      <td>-0.902705</td>\n      <td>1.099787</td>\n      <td>-0.030022</td>\n      <td>0.567903</td>\n      <td>0.208084</td>\n      <td>0.311038</td>\n    </tr>\n    <tr>\n      <th>3</th>\n      <td>-1.244499</td>\n      <td>0.852938</td>\n      <td>-0.811208</td>\n      <td>1.049907</td>\n      <td>-0.032150</td>\n      <td>0.705452</td>\n      <td>0.066432</td>\n      <td>0.694251</td>\n    </tr>\n    <tr>\n      <th>4</th>\n      <td>-1.131111</td>\n      <td>0.657508</td>\n      <td>-0.805944</td>\n      <td>0.825673</td>\n      <td>-0.302757</td>\n      <td>0.956713</td>\n      <td>-0.279128</td>\n      <td>0.350880</td>\n    </tr>\n    <tr>\n      <th>...</th>\n      <td>...</td>\n      <td>...</td>\n      <td>...</td>\n      <td>...</td>\n      <td>...</td>\n      <td>...</td>\n      <td>...</td>\n      <td>...</td>\n    </tr>\n    <tr>\n      <th>7106</th>\n      <td>-1.471275</td>\n      <td>-0.894439</td>\n      <td>-1.812908</td>\n      <td>-0.416764</td>\n      <td>-0.449941</td>\n      <td>-0.035123</td>\n      <td>-1.725628</td>\n      <td>-0.230231</td>\n    </tr>\n    <tr>\n      <th>7107</th>\n      <td>-1.483873</td>\n      <td>-0.825463</td>\n      <td>-1.839228</td>\n      <td>-0.315172</td>\n      <td>-0.525129</td>\n      <td>0.218071</td>\n      <td>-1.714490</td>\n      <td>-0.248841</td>\n    </tr>\n    <tr>\n      <th>7108</th>\n      <td>-1.420880</td>\n      <td>-0.744992</td>\n      <td>-1.702861</td>\n      <td>-0.215869</td>\n      <td>-0.605637</td>\n      <td>-0.070879</td>\n      <td>-1.782174</td>\n      <td>0.421389</td>\n    </tr>\n    <tr>\n      <th>7109</th>\n      <td>-1.622458</td>\n      <td>-0.394367</td>\n      <td>-1.759263</td>\n      <td>-0.635048</td>\n      <td>-0.873052</td>\n      <td>0.079233</td>\n      <td>-1.702781</td>\n      <td>0.545108</td>\n    </tr>\n    <tr>\n      <th>7110</th>\n      <td>-1.622458</td>\n      <td>-0.359879</td>\n      <td>-1.686567</td>\n      <td>0.078838</td>\n      <td>-0.682244</td>\n      <td>-0.279619</td>\n      <td>-1.808448</td>\n      <td>0.720201</td>\n    </tr>\n  </tbody>\n</table>\n<p>7111 rows × 8 columns</p>\n</div>"
     },
     "metadata": {},
     "execution_count": 10
    }
   ],
   "source": [
    "X_full"
   ]
  },
  {
   "cell_type": "code",
   "execution_count": 11,
   "metadata": {},
   "outputs": [],
   "source": [
    "y_org = y_full"
   ]
  },
  {
   "cell_type": "code",
   "execution_count": 12,
   "metadata": {},
   "outputs": [],
   "source": [
    "sc_1 = StandardScaler()\n",
    "y_org = sc_1.fit_transform(y_org)"
   ]
  },
  {
   "cell_type": "code",
   "execution_count": 13,
   "metadata": {},
   "outputs": [],
   "source": [
    "y_full = y_org[:,-3]"
   ]
  },
  {
   "cell_type": "code",
   "execution_count": 14,
   "metadata": {},
   "outputs": [
    {
     "output_type": "execute_result",
     "data": {
      "text/plain": [
       "array([ 0.28595669,  0.00952411,  0.07863226, ..., -0.3360166 ,\n",
       "       -0.40512475, -0.47423289])"
      ]
     },
     "metadata": {},
     "execution_count": 14
    }
   ],
   "source": [
    "y_full"
   ]
  },
  {
   "cell_type": "code",
   "execution_count": 15,
   "metadata": {},
   "outputs": [
    {
     "output_type": "execute_result",
     "data": {
      "text/plain": [
       "7111"
      ]
     },
     "metadata": {},
     "execution_count": 15
    }
   ],
   "source": [
    "len(ds)"
   ]
  },
  {
   "cell_type": "code",
   "execution_count": 16,
   "metadata": {},
   "outputs": [],
   "source": [
    "X = []\n",
    "y = []\n",
    "for i in range(6, len(ds)):\n",
    "    X.append(X_full.iloc[i-6:i, :])\n",
    "    y.append(y_full[i-6:i,])\n",
    "    \n",
    "X = np.array(X)\n",
    "y = np.array(y)"
   ]
  },
  {
   "cell_type": "code",
   "execution_count": 17,
   "metadata": {},
   "outputs": [
    {
     "output_type": "execute_result",
     "data": {
      "text/plain": [
       "(7105, 6, 8)"
      ]
     },
     "metadata": {},
     "execution_count": 17
    }
   ],
   "source": [
    "X.shape"
   ]
  },
  {
   "cell_type": "code",
   "execution_count": 18,
   "metadata": {},
   "outputs": [
    {
     "output_type": "execute_result",
     "data": {
      "text/plain": [
       "array([[[-0.97992726, -0.08972573, -0.88365328, ...,  0.55437357,\n",
       "          0.65559881,  0.7734103 ],\n",
       "        [-0.96732861, -0.12996138, -0.96462148, ...,  1.01018627,\n",
       "         -0.18088625,  0.03293336],\n",
       "        [-1.04292051,  0.49656516, -0.90270462, ...,  0.56790299,\n",
       "          0.20808359,  0.31103815],\n",
       "        [-1.24449891,  0.85293805, -0.81120804, ...,  0.70545212,\n",
       "          0.06643231,  0.69425135],\n",
       "        [-1.13111106,  0.65750775, -0.80594386, ...,  0.95671284,\n",
       "         -0.27912826,  0.35087974],\n",
       "        [-1.21930161,  0.53105285, -0.81597088, ...,  1.71790395,\n",
       "         -0.14461667, -0.12931628]],\n",
       "\n",
       "       [[-0.96732861, -0.12996138, -0.96462148, ...,  1.01018627,\n",
       "         -0.18088625,  0.03293336],\n",
       "        [-1.04292051,  0.49656516, -0.90270462, ...,  0.56790299,\n",
       "          0.20808359,  0.31103815],\n",
       "        [-1.24449891,  0.85293805, -0.81120804, ...,  0.70545212,\n",
       "          0.06643231,  0.69425135],\n",
       "        [-1.13111106,  0.65750775, -0.80594386, ...,  0.95671284,\n",
       "         -0.27912826,  0.35087974],\n",
       "        [-1.21930161,  0.53105285, -0.81597088, ...,  1.71790395,\n",
       "         -0.14461667, -0.12931628],\n",
       "        [-1.28229486,  0.46782541, -0.87738639, ...,  1.95627949,\n",
       "         -0.28626795, -0.5995519 ]],\n",
       "\n",
       "       [[-1.04292051,  0.49656516, -0.90270462, ...,  0.56790299,\n",
       "          0.20808359,  0.31103815],\n",
       "        [-1.24449891,  0.85293805, -0.81120804, ...,  0.70545212,\n",
       "          0.06643231,  0.69425135],\n",
       "        [-1.13111106,  0.65750775, -0.80594386, ...,  0.95671284,\n",
       "         -0.27912826,  0.35087974],\n",
       "        [-1.21930161,  0.53105285, -0.81597088, ...,  1.71790395,\n",
       "         -0.14461667, -0.12931628],\n",
       "        [-1.28229486,  0.46782541, -0.87738639, ...,  1.95627949,\n",
       "         -0.28626795, -0.5995519 ],\n",
       "        [-1.33268945,  0.54254875, -0.85256951, ...,  2.02038319,\n",
       "         -0.43848595, -0.74161862]],\n",
       "\n",
       "       ...,\n",
       "\n",
       "       [[-1.06811781, -1.26230751, -1.73419542, ..., -0.13015081,\n",
       "         -1.53885363, -0.5995519 ],\n",
       "        [-1.10591376, -1.04963336, -1.74347042, ..., -0.15946456,\n",
       "         -1.6762211 , -0.2213189 ],\n",
       "        [-1.3452881 , -0.89443871, -1.75249474, ..., -0.08827402,\n",
       "         -1.8195859 , -0.4679698 ],\n",
       "        [-1.48387325, -0.76223587, -1.79109877, ...,  0.27830891,\n",
       "         -1.70820687, -0.34687233],\n",
       "        [-1.4712746 , -0.89443871, -1.81290754, ..., -0.03512272,\n",
       "         -1.72562769, -0.23023083],\n",
       "        [-1.48387325, -0.82546332, -1.83922848, ...,  0.21807077,\n",
       "         -1.71448979, -0.24884105]],\n",
       "\n",
       "       [[-1.10591376, -1.04963336, -1.74347042, ..., -0.15946456,\n",
       "         -1.6762211 , -0.2213189 ],\n",
       "        [-1.3452881 , -0.89443871, -1.75249474, ..., -0.08827402,\n",
       "         -1.8195859 , -0.4679698 ],\n",
       "        [-1.48387325, -0.76223587, -1.79109877, ...,  0.27830891,\n",
       "         -1.70820687, -0.34687233],\n",
       "        [-1.4712746 , -0.89443871, -1.81290754, ..., -0.03512272,\n",
       "         -1.72562769, -0.23023083],\n",
       "        [-1.48387325, -0.82546332, -1.83922848, ...,  0.21807077,\n",
       "         -1.71448979, -0.24884105],\n",
       "        [-1.42088   , -0.74499202, -1.70286098, ..., -0.07087905,\n",
       "         -1.78217397,  0.42138888]],\n",
       "\n",
       "       [[-1.3452881 , -0.89443871, -1.75249474, ..., -0.08827402,\n",
       "         -1.8195859 , -0.4679698 ],\n",
       "        [-1.48387325, -0.76223587, -1.79109877, ...,  0.27830891,\n",
       "         -1.70820687, -0.34687233],\n",
       "        [-1.4712746 , -0.89443871, -1.81290754, ..., -0.03512272,\n",
       "         -1.72562769, -0.23023083],\n",
       "        [-1.48387325, -0.82546332, -1.83922848, ...,  0.21807077,\n",
       "         -1.71448979, -0.24884105],\n",
       "        [-1.42088   , -0.74499202, -1.70286098, ..., -0.07087905,\n",
       "         -1.78217397,  0.42138888],\n",
       "        [-1.6224584 , -0.39436708, -1.75926298, ...,  0.07923312,\n",
       "         -1.70278071,  0.5451075 ]]])"
      ]
     },
     "metadata": {},
     "execution_count": 18
    }
   ],
   "source": [
    "X"
   ]
  },
  {
   "cell_type": "code",
   "execution_count": 19,
   "metadata": {},
   "outputs": [
    {
     "output_type": "execute_result",
     "data": {
      "text/plain": [
       "(7105, 6)"
      ]
     },
     "metadata": {},
     "execution_count": 19
    }
   ],
   "source": [
    "y.shape"
   ]
  },
  {
   "cell_type": "code",
   "execution_count": 20,
   "metadata": {},
   "outputs": [
    {
     "output_type": "execute_result",
     "data": {
      "text/plain": [
       "array([[ 0.28595669,  0.00952411,  0.07863226,  0.07863226, -0.40512475,\n",
       "        -0.61244918],\n",
       "       [ 0.00952411,  0.07863226,  0.07863226, -0.40512475, -0.61244918,\n",
       "        -0.61244918],\n",
       "       [ 0.07863226,  0.07863226, -0.40512475, -0.61244918, -0.61244918,\n",
       "        -0.75066547],\n",
       "       ...,\n",
       "       [-0.68155732, -0.47423289, -0.40512475, -0.61244918, -0.54334104,\n",
       "        -0.47423289],\n",
       "       [-0.47423289, -0.40512475, -0.61244918, -0.54334104, -0.47423289,\n",
       "        -0.3360166 ],\n",
       "       [-0.40512475, -0.61244918, -0.54334104, -0.47423289, -0.3360166 ,\n",
       "        -0.40512475]])"
      ]
     },
     "metadata": {},
     "execution_count": 20
    }
   ],
   "source": [
    "y"
   ]
  },
  {
   "cell_type": "code",
   "execution_count": 21,
   "metadata": {},
   "outputs": [],
   "source": [
    "X_train, X_valid, y_train, y_valid = train_test_split(X, y, random_state=0)"
   ]
  },
  {
   "cell_type": "code",
   "execution_count": 22,
   "metadata": {},
   "outputs": [
    {
     "output_type": "execute_result",
     "data": {
      "text/plain": [
       "(5328, 6, 8)"
      ]
     },
     "metadata": {},
     "execution_count": 22
    }
   ],
   "source": [
    "X_train.shape"
   ]
  },
  {
   "cell_type": "code",
   "execution_count": 40,
   "metadata": {},
   "outputs": [],
   "source": [
    "tf.keras.backend.clear_session()\n",
    "model = tf.keras.models.Sequential([tf.keras.layers.SimpleRNN(64,activation=\"relu\", input_shape = [6,8], return_sequences=True),\n",
    "                                    tf.keras.layers.SimpleRNN(32, activation = \"relu\", return_sequences=False),\n",
    "                                    tf.keras.layers.Dense(1)])\n",
    "# model = tf.keras.models.Sequential([tf.keras.layers.LSTM(64,activation=\"relu\", input_shape = [6,8], return_sequences=True),\n",
    "#                                     tf.keras.layers.LSTM(32, activation = \"relu\", return_sequences=False),\n",
    "#                                     tf.keras.layers.Dense(1)])"
   ]
  },
  {
   "cell_type": "code",
   "execution_count": 41,
   "metadata": {},
   "outputs": [],
   "source": [
    "model.compile(optimizer=tf.keras.optimizers.Adam(learning_rate=0.005), loss=\"mse\")"
   ]
  },
  {
   "cell_type": "code",
   "execution_count": 42,
   "metadata": {},
   "outputs": [
    {
     "output_type": "stream",
     "name": "stdout",
     "text": [
      "Epoch 1/7\n",
      "134/134 [==============================] - 7s 36ms/step - loss: 0.4842 - accuracy: 0.0000e+00 - val_loss: 0.5028 - val_accuracy: 0.0000e+00\n",
      "Epoch 2/7\n",
      "134/134 [==============================] - 5s 34ms/step - loss: 0.4416 - accuracy: 0.0000e+00 - val_loss: 0.4340 - val_accuracy: 0.0000e+00\n",
      "Epoch 3/7\n",
      "134/134 [==============================] - 5s 34ms/step - loss: 0.4366 - accuracy: 0.0000e+00 - val_loss: 0.4444 - val_accuracy: 0.0000e+00\n",
      "Epoch 4/7\n",
      "134/134 [==============================] - 5s 34ms/step - loss: 0.4350 - accuracy: 0.0000e+00 - val_loss: 0.4524 - val_accuracy: 0.0000e+00\n",
      "Epoch 5/7\n",
      "134/134 [==============================] - 5s 34ms/step - loss: 0.4291 - accuracy: 0.0000e+00 - val_loss: 0.4303 - val_accuracy: 0.0000e+00\n",
      "Epoch 6/7\n",
      "134/134 [==============================] - 5s 34ms/step - loss: 0.4305 - accuracy: 0.0000e+00 - val_loss: 0.4273 - val_accuracy: 0.0000e+00\n",
      "Epoch 7/7\n",
      "134/134 [==============================] - 5s 36ms/step - loss: 0.4186 - accuracy: 0.0000e+00 - val_loss: 0.4289 - val_accuracy: 0.0000e+00\n"
     ]
    }
   ],
   "source": [
    "history = model.fit(X_train, y_train, epochs=20, validation_split=0.2)"
   ]
  },
  {
   "cell_type": "code",
   "execution_count": 36,
   "metadata": {},
   "outputs": [
    {
     "output_type": "stream",
     "name": "stdout",
     "text": [
      "56/56 [==============================] - 0s 8ms/step - loss: 0.4084 - accuracy: 0.0000e+00\n"
     ]
    },
    {
     "output_type": "execute_result",
     "data": {
      "text/plain": [
       "[0.40839216113090515, 0.0]"
      ]
     },
     "metadata": {},
     "execution_count": 36
    }
   ],
   "source": [
    "model.evaluate(X_valid, y_valid)"
   ]
  },
  {
   "cell_type": "code",
   "execution_count": 37,
   "metadata": {},
   "outputs": [
    {
     "output_type": "execute_result",
     "data": {
      "text/plain": [
       "array([[ 1.1208286 ],\n",
       "       [ 2.0998094 ],\n",
       "       [-0.34048104],\n",
       "       [ 0.96061826],\n",
       "       [-0.3958525 ],\n",
       "       [ 0.59866315]], dtype=float32)"
      ]
     },
     "metadata": {},
     "execution_count": 37
    }
   ],
   "source": [
    "model.predict([X_valid[0:6]])"
   ]
  },
  {
   "cell_type": "code",
   "execution_count": 38,
   "metadata": {},
   "outputs": [
    {
     "output_type": "execute_result",
     "data": {
      "text/plain": [
       "array([ 1.73722771,  1.52990328,  1.46079514,  0.56238927,  0.1477404 ,\n",
       "       -0.26690846])"
      ]
     },
     "metadata": {},
     "execution_count": 38
    }
   ],
   "source": [
    "y_valid[0]"
   ]
  },
  {
   "cell_type": "code",
   "execution_count": 39,
   "metadata": {},
   "outputs": [
    {
     "output_type": "execute_result",
     "data": {
      "text/plain": [
       "array([[[ 0.01536607,  0.743727  ,  1.17288894,  2.36830825,\n",
       "          1.82733921, -1.37034792,  1.31045038,  1.9246226 ],\n",
       "        [ 0.00276742,  0.95640115,  1.19670312,  1.99122984,\n",
       "          1.89224223, -1.34844314,  0.95032485,  1.72856003],\n",
       "        [-0.36259343,  1.66914693,  1.17364097,  1.45764558,\n",
       "          1.30137652, -1.11232249,  0.91177057,  1.18231084],\n",
       "        [-0.36259343,  1.48521253,  1.15809908,  0.86823175,\n",
       "          0.47678901, -1.06303674,  0.6892981 ,  0.71233734],\n",
       "        [-0.09802178,  1.50245638,  1.11448154,  0.46278093,\n",
       "          0.56900095, -0.84656597,  0.42084609,  0.84523001],\n",
       "        [-0.07282448,  1.15183144,  1.12626329, -0.25064777,\n",
       "          0.21469432, -0.70193   , -0.15432664,  0.20121166]]])"
      ]
     },
     "metadata": {},
     "execution_count": 39
    }
   ],
   "source": [
    "X_valid[0:1]"
   ]
  },
  {
   "cell_type": "code",
   "execution_count": null,
   "metadata": {},
   "outputs": [],
   "source": []
  }
 ]
}